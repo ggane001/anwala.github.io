{
 "cells": [
  {
   "cell_type": "code",
   "execution_count": 2,
   "metadata": {},
   "outputs": [
    {
     "name": "stdout",
     "output_type": "stream",
     "text": [
      "Please enter a valid URL:http://www.cs.odu.edu/~mln/teaching/cs532-s17/test/pdfs.html\n",
      "http://twitter.com/webscidl\n",
      "http://www.dlib.org/dlib/november15/vandesompel/11vandesompel.html\n",
      "http://arxiv.org/abs/1508.02315\n",
      "http://arxiv.org/abs/1508.02315\n",
      "http://www.cs.odu.edu/~mln/pubs/ht-2015/hypertext-2015-temporal-violations.pdf\n",
      "The size of the PDF in the above link is: 2184076 Bytes\n",
      "http://www.cs.odu.edu/~mln/pubs/tpdl-2015/tpdl-2015-annotations.pdf\n",
      "The size of the PDF in the above link is: 622981 Bytes\n",
      "http://arxiv.org/pdf/1512.06195\n",
      "The size of the PDF in the above link is: 1748959 Bytes\n",
      "http://www.cs.odu.edu/~mln/pubs/tpdl-2015/tpdl-2015-off-topic.pdf\n",
      "The size of the PDF in the above link is: 4308768 Bytes\n",
      "http://www.cs.odu.edu/~mln/pubs/tpdl-2015/tpdl-2015-stories.pdf\n",
      "The size of the PDF in the above link is: 1274604 Bytes\n",
      "http://www.cs.odu.edu/~mln/pubs/tpdl-2015/tpdl-2015-profiling.pdf\n",
      "The size of the PDF in the above link is: 639001 Bytes\n",
      "http://dx.doi.org/10.1007/s00799-015-0150-6\n",
      "http://www.cs.odu.edu/~mln/pubs/jcdl-2014/jcdl-2014-brunelle-damage.pdf\n",
      "The size of the PDF in the above link is: 2205546 Bytes\n",
      "http://arxiv.org/abs/1506.06279\n",
      "http://dx.doi.org/10.1007/s00799-015-0155-1\n",
      "http://bit.ly/1ZDatNK\n",
      "The size of the PDF in the above link is: 720476 Bytes\n",
      "http://www.cs.odu.edu/~mln/pubs/jcdl-2015/jcdl-2015-mink.pdf\n",
      "The size of the PDF in the above link is: 1254605 Bytes\n",
      "http://www.cs.odu.edu/~mln/pubs/jcdl-2015/jcdl-2015-arabic-sites.pdf\n",
      "The size of the PDF in the above link is: 709420 Bytes\n",
      "http://www.cs.odu.edu/~mln/pubs/jcdl-2015/jcdl-2015-dictionary.pdf\n",
      "The size of the PDF in the above link is: 2350603 Bytes\n",
      "http://bit.ly/jcdl-pdf\n",
      "http://dx.doi.org/10.1007/s00799-015-0140-8\n"
     ]
    }
   ],
   "source": [
    "from bs4 import BeautifulSoup\n",
    "import urllib.request \n",
    "import requests\n",
    "from urllib.parse import urlparse\n",
    "user_Input_Uri = input('Please enter a valid URL:')\n",
    "parsed_uri = urlparse(user_Input_Uri)\n",
    "host_Url_To_Append_To_RelativeUrl = '{uri.scheme}://{uri.netloc}/'.format(uri=parsed_uri)\n",
    "\n",
    "with urllib.request.urlopen(user_Input_Uri) as res:\n",
    "    currentHtml = res.read() \n",
    "    soup = BeautifulSoup(currentHtml) \n",
    "    for links in soup.find_all('a'): \n",
    "        currentUrl = links.get('href')\n",
    "        if(currentUrl.startswith('/')):\n",
    "            currentUrl = host_Url_To_Append_To_RelativeUrl + currentUrl\n",
    "        print(currentUrl)\n",
    "        resForEachLinks = requests.head(currentUrl, allow_redirects=True)\n",
    "        if(resForEachLinks.status_code == 200 and resForEachLinks.headers['Content-Type'] =='application/pdf'):\n",
    "            print('The size of the PDF in the above link is: ' + resForEachLinks.headers[\"content-length\"] + ' Bytes')"
   ]
  },
  {
   "cell_type": "code",
   "execution_count": null,
   "metadata": {},
   "outputs": [],
   "source": []
  },
  {
   "cell_type": "code",
   "execution_count": null,
   "metadata": {},
   "outputs": [],
   "source": []
  }
 ],
 "metadata": {
  "kernelspec": {
   "display_name": "Python 3",
   "language": "python",
   "name": "python3"
  },
  "language_info": {
   "codemirror_mode": {
    "name": "ipython",
    "version": 3
   },
   "file_extension": ".py",
   "mimetype": "text/x-python",
   "name": "python",
   "nbconvert_exporter": "python",
   "pygments_lexer": "ipython3",
   "version": "3.7.1"
  }
 },
 "nbformat": 4,
 "nbformat_minor": 2
}
